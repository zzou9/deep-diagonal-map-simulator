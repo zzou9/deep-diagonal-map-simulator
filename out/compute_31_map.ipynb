{
 "cells": [
  {
   "cell_type": "code",
   "execution_count": 1,
   "metadata": {},
   "outputs": [],
   "source": [
    "import numpy as np\n",
    "import pandas as pd"
   ]
  },
  {
   "cell_type": "code",
   "execution_count": 10,
   "metadata": {},
   "outputs": [],
   "source": [
    "def embed_data(x):\n",
    "    '''\n",
    "    Embed the data into a numpy array for solving a linear system\n",
    "    '''\n",
    "    emb = [0] * 166\n",
    "    \n",
    "    # the first entry is 0\n",
    "    emb[0] = 1\n",
    "\n",
    "    # entries 1-6 consist of e_i (6)\n",
    "    for i in range(6):\n",
    "        emb[i+1] = x[i]\n",
    "\n",
    "    # entries 7-12 consist of e_i^2 (6)\n",
    "    for i in range(6):\n",
    "        emb[i+7] = x[i]**2\n",
    "\n",
    "    # entries 13-27 consist of e_ie_j (i,j distinct) (15)\n",
    "    counter = 0\n",
    "    for i in range(6):\n",
    "        for j in range(i):\n",
    "            emb[counter+13] = x[i]*x[j]\n",
    "            counter += 1\n",
    "\n",
    "    # entries 28-33 consist of e_i^3 (6)\n",
    "    for i in range(6):\n",
    "        emb[28+i] = x[i]**3\n",
    "\n",
    "    # entries 34-63 consist of e_i^2e_j (i,j distinct) (30)\n",
    "    counter = 0\n",
    "    for i in range(6):\n",
    "        for j in range(6):\n",
    "            if j != i:\n",
    "                emb[counter+34] = x[i]**2 * x[j]\n",
    "                counter += 1\n",
    "\n",
    "    # entries 64-82 consist of e_ie_je_k (i,j,k distinct) (20)\n",
    "    counter = 0\n",
    "    for i in range(6):\n",
    "        for j in range(i):\n",
    "            for k in range(j):\n",
    "                emb[counter+64] = x[i]*x[j]*x[k]\n",
    "                counter += 1\n",
    "\n",
    "    # entries 83-165 are entries 0-82 times e\n",
    "    for i in range(83):\n",
    "        emb[83+i] = emb[i] * x[6]\n",
    "\n",
    "    return emb"
   ]
  },
  {
   "cell_type": "markdown",
   "metadata": {},
   "source": []
  },
  {
   "cell_type": "code",
   "execution_count": 28,
   "metadata": {},
   "outputs": [
    {
     "data": {
      "text/plain": [
       "(26, 166)"
      ]
     },
     "execution_count": 28,
     "metadata": {},
     "output_type": "execute_result"
    }
   ],
   "source": [
    "url = '/Users/zou/Documents/brown/codes/pentagram/out/31_map/coords_small.csv'\n",
    "df = pd.read_csv(url)\n",
    "\n",
    "# preprocess\n",
    "df = df.drop_duplicates()\n",
    "rows_with_inf = df.index[np.isinf(df).any(axis=1)]\n",
    "df = df.drop(rows_with_inf)\n",
    "\n",
    "# cast to numpy\n",
    "data = df.to_numpy()\n",
    "data_embedded = np.array([embed_data(row) for row in data])\n",
    "data_embedded.shape"
   ]
  },
  {
   "cell_type": "code",
   "execution_count": 29,
   "metadata": {},
   "outputs": [
    {
     "name": "stdout",
     "output_type": "stream",
     "text": [
      "False\n",
      "False\n"
     ]
    }
   ],
   "source": [
    "# Check for NaN or inf values\n",
    "print(np.isnan(data_embedded).any())  # Should return False\n",
    "print(np.isinf(data_embedded).any())  # Should return False"
   ]
  },
  {
   "cell_type": "code",
   "execution_count": 40,
   "metadata": {},
   "outputs": [
    {
     "data": {
      "text/plain": [
       "array([ 1.97602312e-02,  5.18784058e-02,  9.28715420e-03, -1.10555664e-02,\n",
       "        1.63839048e-02,  1.60435626e-02,  5.04153811e-03,  1.45293651e-01,\n",
       "        5.14763457e-03,  1.88817185e-02,  1.59934000e-02,  1.95853025e-02,\n",
       "        1.17156989e-03,  2.52396227e-02, -4.07064288e-02, -5.69398148e-03,\n",
       "        4.89461627e-02,  7.73650480e-03, -1.38576043e-02,  5.34919700e-02,\n",
       "        8.32330169e-03, -1.44019700e-02,  1.78019801e-02,  1.45486572e-02,\n",
       "        2.43494533e-03, -2.24046673e-03,  4.79019955e-03,  4.99237967e-03,\n",
       "        4.42327805e-01,  2.15372309e-03, -2.12082748e-02,  3.13297563e-02,\n",
       "        3.81932262e-02,  2.55306089e-04,  6.84527709e-02, -1.32411542e-01,\n",
       "        1.79619949e-01,  1.96539369e-01,  4.09080669e-02,  1.20643343e-02,\n",
       "       -2.73616575e-03,  3.59175126e-03,  3.89759451e-03,  1.19332834e-03,\n",
       "        4.50006659e-02,  8.48817989e-03,  1.88200156e-02,  1.66450795e-02,\n",
       "        4.77369289e-03,  7.46380062e-02,  6.83374782e-03, -1.53089520e-02,\n",
       "        3.35301325e-02,  4.23097807e-03,  8.74923703e-02,  8.64119018e-03,\n",
       "       -1.65516582e-02,  3.59127708e-02,  4.84584444e-03,  3.61145122e-03,\n",
       "        5.74850049e-04, -3.81772910e-04,  1.24455695e-03,  1.27834639e-03,\n",
       "       -1.97554927e-02,  2.22982729e-02, -4.53912410e-02, -6.71020178e-03,\n",
       "        2.45708271e-02, -4.70729921e-02, -6.93308380e-03,  8.10220089e-02,\n",
       "        7.74335494e-03, -1.59050726e-02,  7.09940494e-03, -8.36362292e-03,\n",
       "       -1.07824518e-03,  1.33355559e-02,  2.32106967e-03, -2.91313343e-03,\n",
       "        1.40605955e-02,  2.42177401e-03, -2.98424957e-03, -2.17207772e-02,\n",
       "       -6.31966875e-02, -1.10855687e-02,  2.54966228e-02, -2.93522179e-02,\n",
       "       -2.84445650e-02, -4.36365361e-03, -1.93016382e-01, -5.66122790e-03,\n",
       "       -2.13454880e-02, -3.99325218e-02, -3.72412515e-02, -9.94109165e-04,\n",
       "       -3.24767993e-02,  6.25455556e-02,  1.28947328e-02, -8.77232750e-02,\n",
       "       -1.50684082e-02,  2.63802727e-02, -8.43739298e-02, -1.46153360e-02,\n",
       "        2.59980908e-02, -3.85701769e-02, -1.15264367e-02, -2.21925052e-03,\n",
       "        6.39347863e-03, -5.40764302e-03, -5.26880573e-03, -5.88252334e-01,\n",
       "       -2.88440695e-03,  2.82776997e-02, -4.89968464e-02, -4.36071288e-02,\n",
       "       -2.40960444e-04, -9.96105759e-02,  1.54044106e-01, -2.52475331e-01,\n",
       "       -2.39278743e-01, -3.31174480e-02, -1.66513145e-02,  6.51545556e-03,\n",
       "       -7.74061914e-03, -7.51228991e-03, -1.12961617e-03, -6.16130043e-02,\n",
       "       -1.13743155e-02, -2.34126981e-02, -2.50365513e-02, -4.82626703e-03,\n",
       "       -1.09606520e-01, -2.08457197e-02,  2.85983294e-02, -4.71769508e-02,\n",
       "       -7.26523625e-03, -9.98477914e-02, -1.95102129e-02,  2.76410181e-02,\n",
       "       -4.55069217e-02, -6.80460226e-03, -2.37746790e-03, -5.00770994e-04,\n",
       "        1.62341609e-03, -1.08674552e-03, -1.06585307e-03,  3.16819368e-02,\n",
       "       -4.54964867e-02,  6.65023724e-02,  1.33527954e-02, -4.38053261e-02,\n",
       "        6.53613476e-02,  1.31963621e-02, -1.04856594e-01, -2.01696764e-02,\n",
       "        2.80688052e-02, -5.91325589e-03,  1.54537778e-02,  3.22420994e-03,\n",
       "       -1.57080072e-02, -2.75970935e-03,  6.41588303e-03, -1.51376619e-02,\n",
       "       -2.68724971e-03,  6.34004505e-03])"
      ]
     },
     "execution_count": 40,
     "metadata": {},
     "output_type": "execute_result"
    }
   ],
   "source": [
    "# Perform Singular Value Decomposition\n",
    "U, S, Vt = np.linalg.svd(data_embedded)\n",
    "\n",
    "# Tolerance to consider singular values as zero\n",
    "tol = 1e-10\n",
    "\n",
    "# Find the rank by counting non-zero singular values\n",
    "rank = (S > tol).sum()\n",
    "\n",
    "# The null space corresponds to the last columns of Vt\n",
    "null_space = Vt[rank:]\n",
    "\n",
    "# Display the null space\n",
    "null_space[0]"
   ]
  },
  {
   "cell_type": "code",
   "execution_count": null,
   "metadata": {},
   "outputs": [],
   "source": []
  }
 ],
 "metadata": {
  "kernelspec": {
   "display_name": "base",
   "language": "python",
   "name": "python3"
  },
  "language_info": {
   "codemirror_mode": {
    "name": "ipython",
    "version": 3
   },
   "file_extension": ".py",
   "mimetype": "text/x-python",
   "name": "python",
   "nbconvert_exporter": "python",
   "pygments_lexer": "ipython3",
   "version": "3.11.4"
  }
 },
 "nbformat": 4,
 "nbformat_minor": 2
}
